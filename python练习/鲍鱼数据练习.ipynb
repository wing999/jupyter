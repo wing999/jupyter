{
 "cells": [
  {
   "cell_type": "markdown",
   "metadata": {},
   "source": [
    "# 鲍鱼数据练习"
   ]
  },
  {
   "cell_type": "markdown",
   "metadata": {},
   "source": [
    "数据解析：\n",
    "\n",
    "|名称|数据类型|测量单位|描述|\n",
    "|-----|-------|--------------|---------| \n",
    "|性别| 名义 | -- | M, F, and I (婴儿) |\n",
    "|长度 | 连续型 | mm | 壳体长度| \n",
    "|直径\t| 连续型 | mm | 垂直与长度|\n",
    "|高度| 连续型 | mm | 壳中有肉|\n",
    "|全重 | 连续型 | 克 | 整个鲍鱼|\n",
    "|去壳重量 | 连续型\t| 克 | 肉重| \n",
    "|内脏重量 | 连续型 | 克 | 肠重量 (出血后)| \n",
    "|壳体重量 | 连续型 | 克 | 干燥后|\n",
    "|环数 | 整数 | -- | +1.5 得到年龄|"
   ]
  },
  {
   "cell_type": "code",
   "execution_count": 1,
   "metadata": {},
   "outputs": [],
   "source": [
    "import numpy as np\n",
    "import matplotlib.pyplot as plt\n",
    "import sklearn"
   ]
  },
  {
   "cell_type": "code",
   "execution_count": 2,
   "metadata": {},
   "outputs": [],
   "source": [
    "data1 = np.loadtxt('data/abalone.data', dtype=float, usecols=(1), delimiter=',')"
   ]
  },
  {
   "cell_type": "code",
   "execution_count": 3,
   "metadata": {},
   "outputs": [],
   "source": [
    "datatype = np.loadtxt('data/abalone.data', dtype=str, usecols=(8), delimiter=',')"
   ]
  },
  {
   "cell_type": "code",
   "execution_count": 6,
   "metadata": {},
   "outputs": [
    {
     "data": {
      "image/png": "[encoded data removed]",
      "text/plain": [
       "<Figure size 432x288 with 1 Axes>"
      ]
     },
     "metadata": {},
     "output_type": "display_data"
    }
   ],
   "source": [
    "plt.hist(data1,100)\n",
    "plt.show()"
   ]
  },
  {
   "cell_type": "code",
   "execution_count": null,
   "metadata": {},
   "outputs": [],
   "source": []
  }
 ],
 "metadata": {
  "kernelspec": {
   "display_name": "Python 3",
   "language": "python",
   "name": "python3"
  },
  "language_info": {
   "codemirror_mode": {
    "name": "ipython",
    "version": 3
   },
   "file_extension": ".py",
   "mimetype": "text/x-python",
   "name": "python",
   "nbconvert_exporter": "python",
   "pygments_lexer": "ipython3",
   "version": "3.6.5"
  }
 },
 "nbformat": 4,
 "nbformat_minor": 2
}
