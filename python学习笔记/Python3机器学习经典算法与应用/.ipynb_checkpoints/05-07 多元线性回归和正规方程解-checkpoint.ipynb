{
 "cells": [
  {
   "cell_type": "markdown",
   "metadata": {},
   "source": [
    "# 多元线性回归"
   ]
  },
  {
   "cell_type": "markdown",
   "metadata": {},
   "source": [
    "$$ 多元线性回归公式：y = \\theta_{0}+\\theta_{1}x_{1}+\\theta_{2}x_{2}+...+\\theta_{n}x_{n}$$\n",
    "\n",
    "$$ 目标：使损失函数 \\sum_{i=1}^{m}(y^i - {\\hat{y}}^i)^2 尽可能的小$$\n",
    "\n",
    "\n",
    "**公式转化：**\n",
    "\n",
    "$$ 预测值：\\hat{y}^{(i)} = \\theta_{0}+\\theta_{1}X_{1}^{(i)}+\\theta_{2}X_{2}^{(i)}+...+\\theta_{n}X_{n}^{(i)}$$\n",
    "\n",
    "$$\\theta =(\\theta_{0},\\theta_{1},\\theta_{2},...,\\theta_{n},)^{T}  此时转制后\\theta为列向量$$\n",
    "\n",
    "$$\\hat{y}^{(i)} = \\theta_{0}X_{0}^{(i)}+\\theta_{1}X_{1}^{(i)}+\\theta_{2}X_{2}^{(i)}+...+\\theta_{n}X_{n}^{(i)} , 其中 X_{0}^{(i)} \\equiv 1$$\n",
    "\n",
    "$$X^{(i)}=(X_{0}^{(i)},X_{1}^{(i)},X_{2}^{(i)},...,X_{n}^{(i)}) 此时，X^{(i)} 为行向量$$\n",
    "\n",
    "$$\\hat{y}^{(i)} = X^{(i)} \\cdot \\theta$$\n",
    "\n",
    "**所以当应用的所有样本数据时**\n",
    "\n",
    "$$ X_{b} = \\begin{pmatrix}\n",
    "        1 & X_1^{(1)} & X_2^{(1)} & \\cdots & X_n^{(1)} \\\\\n",
    "        1 & X_1^{(2)} & X_2^{(2)} & \\cdots & X_n^{(2)} \\\\\n",
    "        \\vdots & \\vdots & \\vdots & \\vdots & \\vdots \\\\\n",
    "        1 & X_1^{(m)} & X_2^{(m)} & \\cdots & X_n^{(m)}  \\\\\n",
    "        \\end{pmatrix}\n",
    "        , 并且\n",
    "        \\theta = \\begin{pmatrix}\n",
    "        \\theta_{0} \\\\\n",
    "        \\theta_{1} \\\\\n",
    "        \\theta_{2} \\\\\n",
    "        \\vdots  \\\\\n",
    "        \\theta_{n} \\\\\n",
    "        \\end{pmatrix}\n",
    "$$  \n",
    "\n",
    "$$\\Downarrow$$\n",
    "\n",
    "$$\\hat{y} = X_{b} \\cdot \\theta$$\n",
    "\n",
    "$$ 目标：使损失函数： \\sum_{i=1}^{m}(y^i - {\\hat{y}}^i)^2    尽可能小$$ \n",
    "\n",
    "$$\\Downarrow$$\n",
    "\n",
    "$$ 目标：使损失函数：(y-X_{b}\\cdot \\theta)^{T}(y-X_{b}\\cdot \\theta)    尽可能小$$\n",
    "\n",
    "$$\\Downarrow$$\n",
    "\n",
    "$$推导后得到：\\theta = (X_b^T X_b)^{-1}X_b^Ty $$\n",
    "\n",
    "**多元线性回归的正规方程解(Normal Equation)**\n",
    "\n",
    "公式：$ \\theta = (X_b^T X_b)^{-1}X_b^Ty$\n",
    "\n",
    "问题：时间复杂度高：O(n^3) (优化后O(n^2.4))\n",
    "\n",
    "优点：不需要对数据做归一化处理"
   ]
  },
  {
   "cell_type": "code",
   "execution_count": null,
   "metadata": {},
   "outputs": [],
   "source": []
  }
 ],
 "metadata": {
  "kernelspec": {
   "display_name": "Python 3",
   "language": "python",
   "name": "python3"
  },
  "language_info": {
   "codemirror_mode": {
    "name": "ipython",
    "version": 3
   },
   "file_extension": ".py",
   "mimetype": "text/x-python",
   "name": "python",
   "nbconvert_exporter": "python",
   "pygments_lexer": "ipython3",
   "version": "3.6.5"
  }
 },
 "nbformat": 4,
 "nbformat_minor": 2
}
