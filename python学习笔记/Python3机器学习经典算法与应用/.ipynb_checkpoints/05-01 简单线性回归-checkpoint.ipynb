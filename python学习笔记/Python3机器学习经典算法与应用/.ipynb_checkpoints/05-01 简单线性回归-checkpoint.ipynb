{
 "cells": [
  {
   "cell_type": "markdown",
   "metadata": {},
   "source": [
    "# 线性回归法 Linear Regression"
   ]
  },
  {
   "cell_type": "markdown",
   "metadata": {},
   "source": [
    "- 解决回归问题\n",
    "- 思想简单，实现容易\n",
    "- 许多强大的非线性模型的基础\n",
    "- 结果具有很好的可解释性\n",
    "- 蕴含机器学习中的很多重要思想\n",
    "\n",
    "公式：\n",
    "\n",
    "$\\hat{y}^i = ax^i+b$\n",
    "\n",
    "使得$\\sum_{i=1}^{m}(y^i - {\\hat{y}}^i)^2$ 最小"
   ]
  },
  {
   "cell_type": "markdown",
   "metadata": {},
   "source": [
    "## 一类机器学习算法的基本思路\n",
    "\n",
    "通过分析问题，确定问题的**损失函数**或**效用函数**；\n",
    "\n",
    "- 损失函数：无法拟合的部分。要使得损失函数最小，得到最优模型\n",
    "- 效用函数：能够拟合的部分。要使得效用函数最大，得到最优模型\n",
    "\n",
    "通过最优化损失函数或者效用函数，获得机器学习模型。\n",
    "\n",
    "近乎所有参数学习算法都是这样的套路\n",
    "\n",
    "线性回归、多现实回归、逻辑回归、SVM、神经网络、.....\n",
    "\n",
    "目标：找到a和b，使得$\\sum_{i=1}^{m}(y^i - ax^i-b)^2$尽可能小\n",
    "\n",
    "典型的最小二乘法问题：最小化误差的平方"
   ]
  },
  {
   "cell_type": "code",
   "execution_count": null,
   "metadata": {},
   "outputs": [],
   "source": []
  }
 ],
 "metadata": {
  "kernelspec": {
   "display_name": "Python 3",
   "language": "python",
   "name": "python3"
  },
  "language_info": {
   "codemirror_mode": {
    "name": "ipython",
    "version": 3
   },
   "file_extension": ".py",
   "mimetype": "text/x-python",
   "name": "python",
   "nbconvert_exporter": "python",
   "pygments_lexer": "ipython3",
   "version": "3.6.5"
  }
 },
 "nbformat": 4,
 "nbformat_minor": 2
}
