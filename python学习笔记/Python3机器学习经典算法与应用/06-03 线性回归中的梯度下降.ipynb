{
 "cells": [
  {
   "cell_type": "markdown",
   "metadata": {},
   "source": [
    "# 多元线性回归中的梯度下降法"
   ]
  },
  {
   "cell_type": "markdown",
   "metadata": {},
   "source": [
    "梯度代表方向，对应J增加最快的方向\n",
    "\n",
    "公式：\n",
    "\n",
    "$-\\eta \\nabla{J} $\n",
    "\n",
    "$\\nabla{J} = (\\frac{\\partial J}{\\partial\\theta_0},\\frac{\\partial J}{\\partial\\theta_1},\\cdots,\\frac{\\partial J}{\\partial\\theta_n})$\n",
    "\n",
    "目标：使 $\\sum_{i=1}^{m}(y^{(i)} - \\hat{y})^{2}$ 尽可能小\n",
    "\n",
    "$\\hat{y}^{(i)} = \\theta_{0} + \\theta_{1}X_{1}^{(i)} + \\theta_{2}X_{2}^{(i)} + \\cdots + \\theta_{n}X_{n}^{(i)}$\n",
    "\n",
    "带入得到\n",
    "\n",
    "目标：使 $\\sum_{i=1}^{m}(y^{(i)} - \\theta_{0} - \\theta_{1}X_{1}^{(i)} - \\theta_{2}X_{2}^{(i)} - \\cdots - \\theta_{n}X_{n}^{(i)})^{2}$ 尽可能小"
   ]
  },
  {
   "cell_type": "markdown",
   "metadata": {},
   "source": [
    "求导过程：\n",
    "$$\n",
    "\\nabla{J}(\\theta) = \n",
    "\\begin{pmatrix} \\partial J / \\partial\\theta_0 \\\\ \\partial J / \\partial\\theta_1 \\\\ \\partial J / \\partial\\theta_2 \\\\ \\cdots \\\\ \\partial J / \\partial\\theta_n \\end{pmatrix} = \n",
    "\\begin{pmatrix} \\sum_{i=1}^{m}2(y^{(i)} - X_{b}^{(i)}\\theta)\\cdot(-1) \\\\ \\sum_{i=1}^{m}2(y^{(i)} - X_{b}^{(i)}\\theta)\\cdot(-X_{1}^{(i)}) \\\\ \\sum_{i=1}^{m}2(y^{(i)} - X_{b}^{(i)}\\theta)\\cdot(-X_{2}^{(i)}) \\\\ \\cdots \\\\ \\sum_{i=1}^{m}2(y^{(i)} - X_{b}^{(i)}\\theta)\\cdot(-X_{n}^{(i)}) \\end{pmatrix} = \n",
    "2 \\cdot\n",
    "\\begin{pmatrix} \\sum_{i=1}^{m}(X_{b}^{(i)}\\theta - y^{(i)}) \\\\ \\sum_{i=1}^{m}(X_{b}^{(i)}\\theta - y^{(i)}) \\cdot X_{1}^{(i)} \\\\ \\sum_{i=1}^{m}(X_{b}^{(i)}\\theta - y^{(i)}) \\cdot X_{2}^{(i)} \\\\ \\cdots \\\\ \\sum_{i=1}^{m}(X_{b}^{(i)}\\theta - y^{(i)}) \\cdot X_{n}^{(i)} \\end{pmatrix}=\n",
    "\\frac{2}{m} \\cdot\n",
    "\\begin{pmatrix} \\sum_{i=1}^{m}(X_{b}^{(i)}\\theta - y^{(i)}) \\\\ \\sum_{i=1}^{m}(X_{b}^{(i)}\\theta - y^{(i)}) \\cdot X_{1}^{(i)} \\\\ \\sum_{i=1}^{m}(X_{b}^{(i)}\\theta - y^{(i)}) \\cdot X_{2}^{(i)} \\\\ \\cdots \\\\ \\sum_{i=1}^{m}(X_{b}^{(i)}\\theta - y^{(i)}) \\cdot X_{n}^{(i)} \\end{pmatrix}\n",
    "$$\n",
    "\n",
    "目标：使 $\\frac{1}{m}\\sum_{i=1}^{m}(y^{(i)} - \\hat{y})^{2}$ 尽可能小\n",
    "\n",
    "$J(\\theta) = MSE(y,\\hat{y})$\n",
    "\n",
    "有时取 $J(\\theta) =\\frac{1}{2m}\\sum_{i=1}^{m}(y^{(i)} - \\hat{y})^{2}$"
   ]
  },
  {
   "cell_type": "code",
   "execution_count": null,
   "metadata": {},
   "outputs": [],
   "source": []
  }
 ],
 "metadata": {
  "kernelspec": {
   "display_name": "Python 3",
   "language": "python",
   "name": "python3"
  },
  "language_info": {
   "codemirror_mode": {
    "name": "ipython",
    "version": 3
   },
   "file_extension": ".py",
   "mimetype": "text/x-python",
   "name": "python",
   "nbconvert_exporter": "python",
   "pygments_lexer": "ipython3",
   "version": "3.6.5"
  }
 },
 "nbformat": 4,
 "nbformat_minor": 2
}
