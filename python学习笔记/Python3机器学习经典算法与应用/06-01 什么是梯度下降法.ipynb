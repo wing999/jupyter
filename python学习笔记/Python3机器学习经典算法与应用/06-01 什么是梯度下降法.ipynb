{
 "cells": [
  {
   "cell_type": "markdown",
   "metadata": {},
   "source": [
    "# 梯度下降法\n",
    "\n",
    "- 不是一个机器学习算法\n",
    "- 是一种基于搜索的最优化方法\n",
    "- 作用：最小化一个损失函数\n",
    "- 梯度上升法：最大化一个效用函数\n",
    "\n",
    "公式：$-\\eta\\frac{dJ}{d\\theta}$\n",
    "\n",
    "- $\\eta$成为学习率(learning rate)\n",
    "- $\\eta$的取值影响获得最优解的速度\n",
    "- $\\eta$取值不合适，甚至得不到最优解\n",
    "- $\\eta$是梯度下降法的一个超参数\n",
    "\n",
    "\n",
    "**并不是所有函数都有唯一的极值点**\n",
    "\n",
    "解决方案：\n",
    "- 多次运行，随机化初始点\n",
    "- 梯度下降法的初始点也是一个超参数\n",
    "\n",
    "**线性回归法的损失函数具有唯一的最优解**"
   ]
  },
  {
   "cell_type": "code",
   "execution_count": null,
   "metadata": {},
   "outputs": [],
   "source": []
  }
 ],
 "metadata": {
  "kernelspec": {
   "display_name": "Python 3",
   "language": "python",
   "name": "python3"
  },
  "language_info": {
   "codemirror_mode": {
    "name": "ipython",
    "version": 3
   },
   "file_extension": ".py",
   "mimetype": "text/x-python",
   "name": "python",
   "nbconvert_exporter": "python",
   "pygments_lexer": "ipython3",
   "version": "3.6.5"
  }
 },
 "nbformat": 4,
 "nbformat_minor": 2
}
