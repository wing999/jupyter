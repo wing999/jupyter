{
 "cells": [
  {
   "cell_type": "markdown",
   "metadata": {},
   "source": [
    "# 数据归一化\n",
    "\n",
    "解决方案： 将所有数据映射到同一尺度\n",
    "\n",
    "- 最值归一化：把所有数据映射到0-1之间。\n",
    "    - 公式： $x_{scale} = \\frac{x-x_{min}}{x_{max}-x_{min}}$\n",
    "    - 适用于分布有明显边界的情况；受outlier影响较大。比如一个人月收入1万，另一个人月收入100万，则100万的人归一化后几乎为1，1万的人为0.01\n",
    "- 均值方差归一化：把所有数据归一道均值为0方差为1的分布中。一般情况都使用这个\n",
    "    - 公式：$x_{scale} = \\frac{x-x_{mean}}{S}$    （S为特征方差，$x_{mean}$为特征均值）\n",
    "    - 适用于数据分布没有明显的边界；有可能存在极端数据值\n",
    "\n"
   ]
  },
  {
   "cell_type": "code",
   "execution_count": 1,
   "metadata": {},
   "outputs": [],
   "source": [
    "import numpy as np\n",
    "import matplotlib.pyplot as plt"
   ]
  },
  {
   "cell_type": "markdown",
   "metadata": {},
   "source": [
    "## 最值归一化 Normalization"
   ]
  },
  {
   "cell_type": "code",
   "execution_count": 2,
   "metadata": {},
   "outputs": [],
   "source": [
    "x = np.random.randint(0, 100, size = 100)"
   ]
  },
  {
   "cell_type": "code",
   "execution_count": 3,
   "metadata": {},
   "outputs": [
    {
     "data": {
      "text/plain": [
       "array([22, 46, 91, 35, 45, 36, 55, 94, 26, 28, 16, 87, 77, 61, 66, 97, 84,\n",
       "       78, 89, 11, 50, 58, 38, 56,  8, 65, 81, 94, 37, 66,  6, 76, 36, 81,\n",
       "       18, 28, 72, 95, 38, 53, 88, 67,  6, 21, 11, 40, 11, 97, 75, 22, 73,\n",
       "       17, 13, 33, 96, 60,  6, 72, 17, 15, 84, 10, 83, 39, 95, 86, 96,  6,\n",
       "       19, 67, 81, 81, 89, 43, 79,  5, 47, 89, 27, 94, 95, 92, 95, 36, 12,\n",
       "       72, 98, 20, 72, 72, 68, 86, 53, 63, 98, 18, 41, 80, 33,  3])"
      ]
     },
     "execution_count": 3,
     "metadata": {},
     "output_type": "execute_result"
    }
   ],
   "source": [
    "x"
   ]
  },
  {
   "cell_type": "code",
   "execution_count": 4,
   "metadata": {},
   "outputs": [
    {
     "data": {
      "text/plain": [
       "array([0.2       , 0.45263158, 0.92631579, 0.33684211, 0.44210526,\n",
       "       0.34736842, 0.54736842, 0.95789474, 0.24210526, 0.26315789,\n",
       "       0.13684211, 0.88421053, 0.77894737, 0.61052632, 0.66315789,\n",
       "       0.98947368, 0.85263158, 0.78947368, 0.90526316, 0.08421053,\n",
       "       0.49473684, 0.57894737, 0.36842105, 0.55789474, 0.05263158,\n",
       "       0.65263158, 0.82105263, 0.95789474, 0.35789474, 0.66315789,\n",
       "       0.03157895, 0.76842105, 0.34736842, 0.82105263, 0.15789474,\n",
       "       0.26315789, 0.72631579, 0.96842105, 0.36842105, 0.52631579,\n",
       "       0.89473684, 0.67368421, 0.03157895, 0.18947368, 0.08421053,\n",
       "       0.38947368, 0.08421053, 0.98947368, 0.75789474, 0.2       ,\n",
       "       0.73684211, 0.14736842, 0.10526316, 0.31578947, 0.97894737,\n",
       "       0.6       , 0.03157895, 0.72631579, 0.14736842, 0.12631579,\n",
       "       0.85263158, 0.07368421, 0.84210526, 0.37894737, 0.96842105,\n",
       "       0.87368421, 0.97894737, 0.03157895, 0.16842105, 0.67368421,\n",
       "       0.82105263, 0.82105263, 0.90526316, 0.42105263, 0.8       ,\n",
       "       0.02105263, 0.46315789, 0.90526316, 0.25263158, 0.95789474,\n",
       "       0.96842105, 0.93684211, 0.96842105, 0.34736842, 0.09473684,\n",
       "       0.72631579, 1.        , 0.17894737, 0.72631579, 0.72631579,\n",
       "       0.68421053, 0.87368421, 0.52631579, 0.63157895, 1.        ,\n",
       "       0.15789474, 0.4       , 0.81052632, 0.31578947, 0.        ])"
      ]
     },
     "execution_count": 4,
     "metadata": {},
     "output_type": "execute_result"
    }
   ],
   "source": [
    "(x - np.min(x)) / (np.max(x) - np.min(x))"
   ]
  },
  {
   "cell_type": "code",
   "execution_count": 5,
   "metadata": {},
   "outputs": [],
   "source": [
    "X = np.random.randint(0, 100, (50, 2))"
   ]
  },
  {
   "cell_type": "code",
   "execution_count": 6,
   "metadata": {},
   "outputs": [
    {
     "data": {
      "text/plain": [
       "array([[48, 91],\n",
       "       [ 2, 88],\n",
       "       [11, 24],\n",
       "       [45, 33],\n",
       "       [78, 81],\n",
       "       [71, 63],\n",
       "       [53, 68],\n",
       "       [94, 31],\n",
       "       [60, 90],\n",
       "       [83, 96]])"
      ]
     },
     "execution_count": 6,
     "metadata": {},
     "output_type": "execute_result"
    }
   ],
   "source": [
    "X[:10,:]"
   ]
  },
  {
   "cell_type": "code",
   "execution_count": 7,
   "metadata": {},
   "outputs": [],
   "source": [
    "X = np.array(X, dtype=float)"
   ]
  },
  {
   "cell_type": "code",
   "execution_count": 8,
   "metadata": {},
   "outputs": [
    {
     "data": {
      "text/plain": [
       "array([[48., 91.],\n",
       "       [ 2., 88.],\n",
       "       [11., 24.],\n",
       "       [45., 33.],\n",
       "       [78., 81.],\n",
       "       [71., 63.],\n",
       "       [53., 68.],\n",
       "       [94., 31.],\n",
       "       [60., 90.],\n",
       "       [83., 96.]])"
      ]
     },
     "execution_count": 8,
     "metadata": {},
     "output_type": "execute_result"
    }
   ],
   "source": [
    "X[:10,:]"
   ]
  },
  {
   "cell_type": "code",
   "execution_count": 9,
   "metadata": {},
   "outputs": [],
   "source": [
    "X[:,0] = (X[:, 0] - np.min(X[:, 0])) / (np.max(X[:, 0]) - np.min(X[:, 0]))"
   ]
  },
  {
   "cell_type": "code",
   "execution_count": 10,
   "metadata": {},
   "outputs": [],
   "source": [
    "X[:,1] = (X[:, 1] - np.min(X[:, 1])) / (np.max(X[:, 1]) - np.min(X[:, 1]))"
   ]
  },
  {
   "cell_type": "code",
   "execution_count": 11,
   "metadata": {},
   "outputs": [
    {
     "data": {
      "text/plain": [
       "array([[0.47916667, 0.92783505],\n",
       "       [0.        , 0.89690722],\n",
       "       [0.09375   , 0.2371134 ],\n",
       "       [0.44791667, 0.32989691],\n",
       "       [0.79166667, 0.82474227],\n",
       "       [0.71875   , 0.63917526],\n",
       "       [0.53125   , 0.69072165],\n",
       "       [0.95833333, 0.30927835],\n",
       "       [0.60416667, 0.91752577],\n",
       "       [0.84375   , 0.97938144]])"
      ]
     },
     "execution_count": 11,
     "metadata": {},
     "output_type": "execute_result"
    }
   ],
   "source": [
    "X[:10,:]"
   ]
  },
  {
   "cell_type": "code",
   "execution_count": 12,
   "metadata": {},
   "outputs": [
    {
     "data": {
      "image/png": "[encoded data removed]",
      "text/plain": [
       "<Figure size 432x288 with 1 Axes>"
      ]
     },
     "metadata": {},
     "output_type": "display_data"
    }
   ],
   "source": [
    "plt.scatter(X[:,0], X[:,1])\n",
    "plt.show()"
   ]
  },
  {
   "cell_type": "code",
   "execution_count": 13,
   "metadata": {},
   "outputs": [
    {
     "data": {
      "text/plain": [
       "0.5125"
      ]
     },
     "execution_count": 13,
     "metadata": {},
     "output_type": "execute_result"
    }
   ],
   "source": [
    "np.mean(X[:,0])"
   ]
  },
  {
   "cell_type": "code",
   "execution_count": 14,
   "metadata": {},
   "outputs": [
    {
     "data": {
      "text/plain": [
       "0.3178158970920813"
      ]
     },
     "execution_count": 14,
     "metadata": {},
     "output_type": "execute_result"
    }
   ],
   "source": [
    "np.std(X[:,0])"
   ]
  },
  {
   "cell_type": "code",
   "execution_count": 15,
   "metadata": {},
   "outputs": [
    {
     "data": {
      "text/plain": [
       "0.46371134020618554"
      ]
     },
     "execution_count": 15,
     "metadata": {},
     "output_type": "execute_result"
    }
   ],
   "source": [
    "np.mean(X[:,1])"
   ]
  },
  {
   "cell_type": "code",
   "execution_count": 16,
   "metadata": {},
   "outputs": [
    {
     "data": {
      "text/plain": [
       "0.32267540590958244"
      ]
     },
     "execution_count": 16,
     "metadata": {},
     "output_type": "execute_result"
    }
   ],
   "source": [
    "np.std(X[:,1])"
   ]
  },
  {
   "cell_type": "markdown",
   "metadata": {},
   "source": [
    "## 均值方差归一化 Standardization"
   ]
  },
  {
   "cell_type": "code",
   "execution_count": 17,
   "metadata": {},
   "outputs": [],
   "source": [
    "X2 = np.random.randint(0, 100, (50, 2))"
   ]
  },
  {
   "cell_type": "code",
   "execution_count": 18,
   "metadata": {},
   "outputs": [],
   "source": [
    "X2 = np.array(X2, dtype=float)"
   ]
  },
  {
   "cell_type": "code",
   "execution_count": 19,
   "metadata": {},
   "outputs": [],
   "source": [
    "X2[:,0] = (X2[:,0]  - np.mean(X2[:,0] )) / np.std(X2[:,0] )"
   ]
  },
  {
   "cell_type": "code",
   "execution_count": 20,
   "metadata": {},
   "outputs": [],
   "source": [
    "X2[:,1] = (X2[:,1]  - np.mean(X2[:,1] )) / np.std(X2[:,1] )"
   ]
  },
  {
   "cell_type": "code",
   "execution_count": 21,
   "metadata": {},
   "outputs": [
    {
     "data": {
      "image/png": "[encoded data removed]",
      "text/plain": [
       "<Figure size 432x288 with 1 Axes>"
      ]
     },
     "metadata": {},
     "output_type": "display_data"
    }
   ],
   "source": [
    "plt.scatter(X2[:,0], X2[:,1])\n",
    "plt.show()"
   ]
  },
  {
   "cell_type": "code",
   "execution_count": 22,
   "metadata": {},
   "outputs": [
    {
     "data": {
      "text/plain": [
       "5.329070518200751e-17"
      ]
     },
     "execution_count": 22,
     "metadata": {},
     "output_type": "execute_result"
    }
   ],
   "source": [
    "np.mean(X2[:,0])"
   ]
  },
  {
   "cell_type": "code",
   "execution_count": 23,
   "metadata": {},
   "outputs": [
    {
     "data": {
      "text/plain": [
       "0.9999999999999998"
      ]
     },
     "execution_count": 23,
     "metadata": {},
     "output_type": "execute_result"
    }
   ],
   "source": [
    "np.std(X2[:,0])"
   ]
  },
  {
   "cell_type": "code",
   "execution_count": 24,
   "metadata": {},
   "outputs": [
    {
     "data": {
      "text/plain": [
       "8.43769498715119e-17"
      ]
     },
     "execution_count": 24,
     "metadata": {},
     "output_type": "execute_result"
    }
   ],
   "source": [
    "np.mean(X2[:,1])"
   ]
  },
  {
   "cell_type": "code",
   "execution_count": 25,
   "metadata": {},
   "outputs": [
    {
     "data": {
      "text/plain": [
       "1.0"
      ]
     },
     "execution_count": 25,
     "metadata": {},
     "output_type": "execute_result"
    }
   ],
   "source": [
    "np.std(X2[:,1])"
   ]
  },
  {
   "cell_type": "code",
   "execution_count": null,
   "metadata": {},
   "outputs": [],
   "source": []
  }
 ],
 "metadata": {
  "kernelspec": {
   "display_name": "Python 3",
   "language": "python",
   "name": "python3"
  },
  "language_info": {
   "codemirror_mode": {
    "name": "ipython",
    "version": 3
   },
   "file_extension": ".py",
   "mimetype": "text/x-python",
   "name": "python",
   "nbconvert_exporter": "python",
   "pygments_lexer": "ipython3",
   "version": "3.6.5"
  }
 },
 "nbformat": 4,
 "nbformat_minor": 2
}
