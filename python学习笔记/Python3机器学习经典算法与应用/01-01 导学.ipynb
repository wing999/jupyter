{
 "cells": [
  {
   "cell_type": "markdown",
   "metadata": {},
   "source": [
    "# 1-1 导学"
   ]
  },
  {
   "cell_type": "markdown",
   "metadata": {},
   "source": [
    "## 机器学习算法\n",
    "\n",
    "**knn，线性回归，多项式回归，逻辑回归，模型正则化，PCA，SVM，决策树，随机森林，集成学习，模型选择，模型调整**\n",
    "\n",
    "- 深入理解算法基本原理\n",
    "- 实际使用算法解决真实场景的问题\n",
    "- 对不同算法进行对比实验\n",
    "- 对同一算法的不同参数进行对比实验\n",
    "- 对部分算法底层编写"
   ]
  },
  {
   "cell_type": "markdown",
   "metadata": {},
   "source": [
    "## 介绍如何使用算法\n",
    "\n",
    "- 如何评价算法的好坏\n",
    "- 如何解决过拟合和欠拟合\n",
    "- 如何调节算法的参数\n",
    "- 如何验证算法的正确性"
   ]
  },
  {
   "cell_type": "markdown",
   "metadata": {},
   "source": [
    "## 不仅仅是调库\n",
    "\n",
    "- 不反对调库。\n",
    "    但在调库的时候应该对概念原理了解。\n",
    "- 深入代码内部，可以帮助我们更好的理解算法。\n",
    "- 更好的理解算法，可以帮助我们更好的选择算法。\n",
    "- 甚至在将来创造新的算法。\n"
   ]
  },
  {
   "cell_type": "markdown",
   "metadata": {},
   "source": [
    "## 课程环境\n",
    "\n",
    "**AnACONDA**\n",
    "- 语言：Python 3\n",
    "- 框架：scikit-learn\n",
    "- 其他：numpy，matplotlib，...\n",
    "- IDE：Jupyter Notebook、PyCharm\n",
    "\n",
    "**数学**\n",
    "- 基本高中数学水平\n",
    "- 本科高等数学，线性代数，概率论。"
   ]
  },
  {
   "cell_type": "code",
   "execution_count": null,
   "metadata": {},
   "outputs": [],
   "source": []
  }
 ],
 "metadata": {
  "kernelspec": {
   "display_name": "Python 3",
   "language": "python",
   "name": "python3"
  },
  "language_info": {
   "codemirror_mode": {
    "name": "ipython",
    "version": 3
   },
   "file_extension": ".py",
   "mimetype": "text/x-python",
   "name": "python",
   "nbconvert_exporter": "python",
   "pygments_lexer": "ipython3",
   "version": "3.6.5"
  }
 },
 "nbformat": 4,
 "nbformat_minor": 2
}
