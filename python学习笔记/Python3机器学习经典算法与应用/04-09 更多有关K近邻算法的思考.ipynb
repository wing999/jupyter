{
 "cells": [
  {
   "cell_type": "markdown",
   "metadata": {},
   "source": [
    "# 更多有关k近邻算法\n",
    "\n",
    "- 解决分类问题\n",
    "- 天然可以解决多分类问题\n",
    "- 思想简单，效果强大"
   ]
  },
  {
   "cell_type": "markdown",
   "metadata": {},
   "source": [
    "## 使用k近邻算法解决回归问题"
   ]
  },
  {
   "cell_type": "code",
   "execution_count": 1,
   "metadata": {},
   "outputs": [],
   "source": [
    "from sklearn.neighbors import KNeighborsRegressor "
   ]
  },
  {
   "cell_type": "markdown",
   "metadata": {},
   "source": [
    "## 更多有关K近邻算法\n",
    "\n",
    "- 最大缺点：效率低下\n",
    "- 如果训练集有m个样本，n个特征，则预测每一个新的数据需要O(m * n)\n",
    "- 优化，使用树结构：KD-Tree，Ball-Tree\n",
    "- 缺点2：高度数据相关\n",
    "- 缺点3：预测结果不具有可解释行\n",
    "- 缺点4：维数灾难。随着维度的增加，“看似相近“的两个点之间的距离越来越大。在处理高\n",
    "\n",
    "解决方法：降维"
   ]
  },
  {
   "cell_type": "code",
   "execution_count": null,
   "metadata": {},
   "outputs": [],
   "source": []
  }
 ],
 "metadata": {
  "kernelspec": {
   "display_name": "Python 3",
   "language": "python",
   "name": "python3"
  },
  "language_info": {
   "codemirror_mode": {
    "name": "ipython",
    "version": 3
   },
   "file_extension": ".py",
   "mimetype": "text/x-python",
   "name": "python",
   "nbconvert_exporter": "python",
   "pygments_lexer": "ipython3",
   "version": "3.6.5"
  }
 },
 "nbformat": 4,
 "nbformat_minor": 2
}
