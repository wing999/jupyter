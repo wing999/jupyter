{
 "cells": [
  {
   "cell_type": "markdown",
   "metadata": {},
   "source": [
    "# LogisticRegression分析鸢尾花数据"
   ]
  },
  {
   "cell_type": "code",
   "execution_count": 1,
   "metadata": {},
   "outputs": [],
   "source": [
    "import matplotlib.pyplot as plt\n",
    "import pandas as pd\n",
    "import numpy as np\n",
    "from sklearn.linear_model import LogisticRegression # 导入逻辑回归模块\n",
    "from sklearn.datasets import load_iris   #导入数据集iris"
   ]
  },
  {
   "cell_type": "code",
   "execution_count": 2,
   "metadata": {},
   "outputs": [],
   "source": [
    "iris = load_iris() # 载入数据集"
   ]
  },
  {
   "cell_type": "code",
   "execution_count": 18,
   "metadata": {},
   "outputs": [],
   "source": [
    "names = np.array(['花萼长度','花萼宽度','花瓣长度','花瓣宽度'])\n",
    "data_table = pd.DataFrame(iris.data,columns=names)\n",
    "data_table['标签']=iris.target"
   ]
  },
  {
   "cell_type": "code",
   "execution_count": 27,
   "metadata": {},
   "outputs": [
    {
     "data": {
      "image/png": "[encoded data removed]",
      "text/plain": [
       "<Figure size 432x288 with 1 Axes>"
      ]
     },
     "metadata": {},
     "output_type": "display_data"
    }
   ],
   "source": [
    "plt.scatter(data_table[data_table['标签']==0]['花萼长度'], data_table[data_table['标签']==0]['花萼宽度'], color='red', marker='o', label='setosa') #前50个样本\n",
    "plt.scatter(data_table[data_table['标签']==1]['花萼长度'], data_table[data_table['标签']==1]['花萼宽度'], color='blue', marker='x', label='versicolor') #前50个样本\n",
    "plt.scatter(data_table[data_table['标签']==2]['花萼长度'], data_table[data_table['标签']==2]['花萼宽度'], color='green', marker='+', label='Virginica') #前50个样本\n",
    "plt.show()"
   ]
  },
  {
   "cell_type": "code",
   "execution_count": null,
   "metadata": {},
   "outputs": [],
   "source": [
    "sklearn"
   ]
  }
 ],
 "metadata": {
  "kernelspec": {
   "display_name": "Python 3",
   "language": "python",
   "name": "python3"
  },
  "language_info": {
   "codemirror_mode": {
    "name": "ipython",
    "version": 3
   },
   "file_extension": ".py",
   "mimetype": "text/x-python",
   "name": "python",
   "nbconvert_exporter": "python",
   "pygments_lexer": "ipython3",
   "version": "3.6.5"
  }
 },
 "nbformat": 4,
 "nbformat_minor": 2
}
