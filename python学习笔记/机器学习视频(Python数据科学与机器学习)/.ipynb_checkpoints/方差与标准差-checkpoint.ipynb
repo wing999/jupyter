{
 "cells": [
  {
   "cell_type": "markdown",
   "metadata": {},
   "source": [
    "# 方差与标准差"
   ]
  },
  {
   "cell_type": "markdown",
   "metadata": {},
   "source": [
    "**都是用来描述数据的离散程度**"
   ]
  },
  {
   "cell_type": "markdown",
   "metadata": {},
   "source": [
    "## 方差"
   ]
  },
  {
   "cell_type": "markdown",
   "metadata": {},
   "source": [
    "样本数据与样本平均值之间的差距的平方的平均值"
   ]
  },
  {
   "cell_type": "markdown",
   "metadata": {},
   "source": [
    "例子：计算(1,4,5,4,8)方差\n",
    "1. 计算平均值(1+4+5+4+8)/5=4.4\n",
    "2. 计算样本数据与平均值的距离:(-3.4,-0.4,0.6,-0.4,3.6)\n",
    "3. 将距离值平方(11.56,0.16,0.36,0.16,12.96)\n",
    "4. 计算方差：$\\sigma^2=(11.56+0.16+0.36+0.16+12.96)/5=5.04$\n"
   ]
  },
  {
   "cell_type": "markdown",
   "metadata": {},
   "source": [
    "## 标准差"
   ]
  },
  {
   "cell_type": "markdown",
   "metadata": {},
   "source": [
    "方差的开方：$\\sigma=\\sqrt{5.04}=2.24$\n",
    "\n",
    "计算是否为离群值(样本数据与平均值相差1个标准差)：样本数据大于(平均值+标准差)  或者  样本数据小于(平均值-标准差)"
   ]
  },
  {
   "cell_type": "markdown",
   "metadata": {},
   "source": [
    "## 总体数据与样本数据在计算方差时有不同"
   ]
  },
  {
   "cell_type": "markdown",
   "metadata": {},
   "source": [
    "总体数据方差：$\\sigma^2=(11.56+0.16+0.36+0.16+12.96)/5=5.04$\n",
    "\n",
    "样本数据方差：$ S^2=(11.56+0.16+0.36+0.16+12.96)/4=6.3$"
   ]
  },
  {
   "cell_type": "code",
   "execution_count": 1,
   "metadata": {},
   "outputs": [],
   "source": [
    "import numpy as np\n",
    "import matplotlib.pyplot as plt"
   ]
  },
  {
   "cell_type": "code",
   "execution_count": 2,
   "metadata": {},
   "outputs": [],
   "source": [
    "data = np.random.normal(100,20,10000) #生成正态分布数据。中间值100，标准差20，产生10000个数据"
   ]
  },
  {
   "cell_type": "code",
   "execution_count": 3,
   "metadata": {},
   "outputs": [
    {
     "data": {
      "image/png": "[encoded data removed]",
      "text/plain": [
       "<Figure size 432x288 with 1 Axes>"
      ]
     },
     "metadata": {},
     "output_type": "display_data"
    }
   ],
   "source": [
    "plt.hist(data,50) # 画图，50个柱子\n",
    "plt.show()\n",
    "# 图中可看到，大部分数据在80-120之间。超出一个标准差的数据可认为是离群数据"
   ]
  },
  {
   "cell_type": "code",
   "execution_count": 4,
   "metadata": {},
   "outputs": [
    {
     "data": {
      "text/plain": [
       "19.891330618685654"
      ]
     },
     "execution_count": 4,
     "metadata": {},
     "output_type": "execute_result"
    }
   ],
   "source": [
    "data.std() #标准差"
   ]
  },
  {
   "cell_type": "code",
   "execution_count": 5,
   "metadata": {},
   "outputs": [
    {
     "data": {
      "text/plain": [
       "395.6650337818613"
      ]
     },
     "execution_count": 5,
     "metadata": {},
     "output_type": "execute_result"
    }
   ],
   "source": [
    "data.var() #方差"
   ]
  },
  {
   "cell_type": "code",
   "execution_count": null,
   "metadata": {},
   "outputs": [],
   "source": []
  }
 ],
 "metadata": {
  "kernelspec": {
   "display_name": "Python 3",
   "language": "python",
   "name": "python3"
  },
  "language_info": {
   "codemirror_mode": {
    "name": "ipython",
    "version": 3
   },
   "file_extension": ".py",
   "mimetype": "text/x-python",
   "name": "python",
   "nbconvert_exporter": "python",
   "pygments_lexer": "ipython3",
   "version": "3.6.5"
  }
 },
 "nbformat": 4,
 "nbformat_minor": 2
}
