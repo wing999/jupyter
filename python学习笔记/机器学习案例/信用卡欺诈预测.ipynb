{
 "cells": [
  {
   "cell_type": "markdown",
   "metadata": {},
   "source": [
    "# 信用卡欺诈预测"
   ]
  },
  {
   "cell_type": "code",
   "execution_count": 1,
   "metadata": {},
   "outputs": [],
   "source": [
    "import pandas as pd\n",
    "import matplotlib.pyplot as plt\n",
    "import numpy as np"
   ]
  },
  {
   "cell_type": "code",
   "execution_count": 2,
   "metadata": {},
   "outputs": [
    {
     "data": {
      "text/html": [
       "<div>\n",
       "<style scoped>\n",
       "    .dataframe tbody tr th:only-of-type {\n",
       "        vertical-align: middle;\n",
       "    }\n",
       "\n",
       "    .dataframe tbody tr th {\n",
       "        vertical-align: top;\n",
       "    }\n",
       "\n",
       "    .dataframe thead th {\n",
       "        text-align: right;\n",
       "    }\n",
       "</style>\n",
       "<table border=\"1\" class=\"dataframe\">\n",
       "  <thead>\n",
       "    <tr style=\"text-align: right;\">\n",
       "      <th></th>\n",
       "      <th>Time</th>\n",
       "      <th>V1</th>\n",
       "      <th>V2</th>\n",
       "      <th>V3</th>\n",
       "      <th>V4</th>\n",
       "      <th>V5</th>\n",
       "      <th>V6</th>\n",
       "      <th>V7</th>\n",
       "      <th>V8</th>\n",
       "      <th>V9</th>\n",
       "      <th>...</th>\n",
       "      <th>V21</th>\n",
       "      <th>V22</th>\n",
       "      <th>V23</th>\n",
       "      <th>V24</th>\n",
       "      <th>V25</th>\n",
       "      <th>V26</th>\n",
       "      <th>V27</th>\n",
       "      <th>V28</th>\n",
       "      <th>Amount</th>\n",
       "      <th>Class</th>\n",
       "    </tr>\n",
       "  </thead>\n",
       "  <tbody>\n",
       "    <tr>\n",
       "      <th>0</th>\n",
       "      <td>0.0</td>\n",
       "      <td>-1.359807</td>\n",
       "      <td>-0.072781</td>\n",
       "      <td>2.536347</td>\n",
       "      <td>1.378155</td>\n",
       "      <td>-0.338321</td>\n",
       "      <td>0.462388</td>\n",
       "      <td>0.239599</td>\n",
       "      <td>0.098698</td>\n",
       "      <td>0.363787</td>\n",
       "      <td>...</td>\n",
       "      <td>-0.018307</td>\n",
       "      <td>0.277838</td>\n",
       "      <td>-0.110474</td>\n",
       "      <td>0.066928</td>\n",
       "      <td>0.128539</td>\n",
       "      <td>-0.189115</td>\n",
       "      <td>0.133558</td>\n",
       "      <td>-0.021053</td>\n",
       "      <td>149.62</td>\n",
       "      <td>0</td>\n",
       "    </tr>\n",
       "    <tr>\n",
       "      <th>1</th>\n",
       "      <td>0.0</td>\n",
       "      <td>1.191857</td>\n",
       "      <td>0.266151</td>\n",
       "      <td>0.166480</td>\n",
       "      <td>0.448154</td>\n",
       "      <td>0.060018</td>\n",
       "      <td>-0.082361</td>\n",
       "      <td>-0.078803</td>\n",
       "      <td>0.085102</td>\n",
       "      <td>-0.255425</td>\n",
       "      <td>...</td>\n",
       "      <td>-0.225775</td>\n",
       "      <td>-0.638672</td>\n",
       "      <td>0.101288</td>\n",
       "      <td>-0.339846</td>\n",
       "      <td>0.167170</td>\n",
       "      <td>0.125895</td>\n",
       "      <td>-0.008983</td>\n",
       "      <td>0.014724</td>\n",
       "      <td>2.69</td>\n",
       "      <td>0</td>\n",
       "    </tr>\n",
       "    <tr>\n",
       "      <th>2</th>\n",
       "      <td>1.0</td>\n",
       "      <td>-1.358354</td>\n",
       "      <td>-1.340163</td>\n",
       "      <td>1.773209</td>\n",
       "      <td>0.379780</td>\n",
       "      <td>-0.503198</td>\n",
       "      <td>1.800499</td>\n",
       "      <td>0.791461</td>\n",
       "      <td>0.247676</td>\n",
       "      <td>-1.514654</td>\n",
       "      <td>...</td>\n",
       "      <td>0.247998</td>\n",
       "      <td>0.771679</td>\n",
       "      <td>0.909412</td>\n",
       "      <td>-0.689281</td>\n",
       "      <td>-0.327642</td>\n",
       "      <td>-0.139097</td>\n",
       "      <td>-0.055353</td>\n",
       "      <td>-0.059752</td>\n",
       "      <td>378.66</td>\n",
       "      <td>0</td>\n",
       "    </tr>\n",
       "    <tr>\n",
       "      <th>3</th>\n",
       "      <td>1.0</td>\n",
       "      <td>-0.966272</td>\n",
       "      <td>-0.185226</td>\n",
       "      <td>1.792993</td>\n",
       "      <td>-0.863291</td>\n",
       "      <td>-0.010309</td>\n",
       "      <td>1.247203</td>\n",
       "      <td>0.237609</td>\n",
       "      <td>0.377436</td>\n",
       "      <td>-1.387024</td>\n",
       "      <td>...</td>\n",
       "      <td>-0.108300</td>\n",
       "      <td>0.005274</td>\n",
       "      <td>-0.190321</td>\n",
       "      <td>-1.175575</td>\n",
       "      <td>0.647376</td>\n",
       "      <td>-0.221929</td>\n",
       "      <td>0.062723</td>\n",
       "      <td>0.061458</td>\n",
       "      <td>123.50</td>\n",
       "      <td>0</td>\n",
       "    </tr>\n",
       "    <tr>\n",
       "      <th>4</th>\n",
       "      <td>2.0</td>\n",
       "      <td>-1.158233</td>\n",
       "      <td>0.877737</td>\n",
       "      <td>1.548718</td>\n",
       "      <td>0.403034</td>\n",
       "      <td>-0.407193</td>\n",
       "      <td>0.095921</td>\n",
       "      <td>0.592941</td>\n",
       "      <td>-0.270533</td>\n",
       "      <td>0.817739</td>\n",
       "      <td>...</td>\n",
       "      <td>-0.009431</td>\n",
       "      <td>0.798278</td>\n",
       "      <td>-0.137458</td>\n",
       "      <td>0.141267</td>\n",
       "      <td>-0.206010</td>\n",
       "      <td>0.502292</td>\n",
       "      <td>0.219422</td>\n",
       "      <td>0.215153</td>\n",
       "      <td>69.99</td>\n",
       "      <td>0</td>\n",
       "    </tr>\n",
       "  </tbody>\n",
       "</table>\n",
       "<p>5 rows × 31 columns</p>\n",
       "</div>"
      ],
      "text/plain": [
       "   Time        V1        V2        V3        V4        V5        V6        V7  \\\n",
       "0   0.0 -1.359807 -0.072781  2.536347  1.378155 -0.338321  0.462388  0.239599   \n",
       "1   0.0  1.191857  0.266151  0.166480  0.448154  0.060018 -0.082361 -0.078803   \n",
       "2   1.0 -1.358354 -1.340163  1.773209  0.379780 -0.503198  1.800499  0.791461   \n",
       "3   1.0 -0.966272 -0.185226  1.792993 -0.863291 -0.010309  1.247203  0.237609   \n",
       "4   2.0 -1.158233  0.877737  1.548718  0.403034 -0.407193  0.095921  0.592941   \n",
       "\n",
       "         V8        V9  ...         V21       V22       V23       V24  \\\n",
       "0  0.098698  0.363787  ...   -0.018307  0.277838 -0.110474  0.066928   \n",
       "1  0.085102 -0.255425  ...   -0.225775 -0.638672  0.101288 -0.339846   \n",
       "2  0.247676 -1.514654  ...    0.247998  0.771679  0.909412 -0.689281   \n",
       "3  0.377436 -1.387024  ...   -0.108300  0.005274 -0.190321 -1.175575   \n",
       "4 -0.270533  0.817739  ...   -0.009431  0.798278 -0.137458  0.141267   \n",
       "\n",
       "        V25       V26       V27       V28  Amount  Class  \n",
       "0  0.128539 -0.189115  0.133558 -0.021053  149.62      0  \n",
       "1  0.167170  0.125895 -0.008983  0.014724    2.69      0  \n",
       "2 -0.327642 -0.139097 -0.055353 -0.059752  378.66      0  \n",
       "3  0.647376 -0.221929  0.062723  0.061458  123.50      0  \n",
       "4 -0.206010  0.502292  0.219422  0.215153   69.99      0  \n",
       "\n",
       "[5 rows x 31 columns]"
      ]
     },
     "execution_count": 2,
     "metadata": {},
     "output_type": "execute_result"
    }
   ],
   "source": [
    "data = pd.read_csv('../../dataSet/creditcard.csv')\n",
    "data.head()"
   ]
  },
  {
   "cell_type": "code",
   "execution_count": 3,
   "metadata": {},
   "outputs": [
    {
     "data": {
      "text/plain": [
       "Text(0,0.5,'Frequency')"
      ]
     },
     "execution_count": 3,
     "metadata": {},
     "output_type": "execute_result"
    },
    {
     "data": {
      "image/png": "[encoded data removed]",
      "text/plain": [
       "<Figure size 432x288 with 1 Axes>"
      ]
     },
     "metadata": {},
     "output_type": "display_data"
    }
   ],
   "source": [
    "#查看每种标签的数据量\n",
    "count_class = pd.value_counts(data['Class'],sort=True).sort_index()\n",
    "count_class.plot(kind='bar')\n",
    "plt.title(\"Fraud class histogram\")\n",
    "plt.xlabel(\"Class\")\n",
    "plt.ylabel(\"Frequency\")"
   ]
  },
  {
   "cell_type": "markdown",
   "metadata": {},
   "source": [
    "特征中`Amount`特征的值与其他特征数据取值范围不同，会导致`Amount`数据权重过大，对于取值范围不同的特征，可以采用：**归一化**或**标准化**\n",
    "* 归一化：将数据进行线性变换，把数据映射到[0,1]之间\n",
    "* 标准化：常用的方法是z-score标准化。经过处理后的数据均值为0，标准差为1。该种归一化方式要求原始数据的分布可以近似为高斯分布，否则标准化的效果会变得很差。\n",
    "\n",
    "二者区别\n",
    "1. 在分类、聚类算法中，需要使用距离来度量相似性的时候、或者使用PCA技术进行降维的时候，第二种方法(Z-scorestandardization)表现更好。\n",
    "2. 在不涉及距离了度量、协方差计算、数据不符合正太分布的时候，可以使用第一种方法或者其他归一化方法。比如图像处理中，将RGB图像转化为灰度图像后将其值限定在[0 255]的范围。"
   ]
  },
  {
   "cell_type": "code",
   "execution_count": 4,
   "metadata": {},
   "outputs": [
    {
     "data": {
      "text/html": [
       "<div>\n",
       "<style scoped>\n",
       "    .dataframe tbody tr th:only-of-type {\n",
       "        vertical-align: middle;\n",
       "    }\n",
       "\n",
       "    .dataframe tbody tr th {\n",
       "        vertical-align: top;\n",
       "    }\n",
       "\n",
       "    .dataframe thead th {\n",
       "        text-align: right;\n",
       "    }\n",
       "</style>\n",
       "<table border=\"1\" class=\"dataframe\">\n",
       "  <thead>\n",
       "    <tr style=\"text-align: right;\">\n",
       "      <th></th>\n",
       "      <th>V1</th>\n",
       "      <th>V2</th>\n",
       "      <th>V3</th>\n",
       "      <th>V4</th>\n",
       "      <th>V5</th>\n",
       "      <th>V6</th>\n",
       "      <th>V7</th>\n",
       "      <th>V8</th>\n",
       "      <th>V9</th>\n",
       "      <th>V10</th>\n",
       "      <th>...</th>\n",
       "      <th>V21</th>\n",
       "      <th>V22</th>\n",
       "      <th>V23</th>\n",
       "      <th>V24</th>\n",
       "      <th>V25</th>\n",
       "      <th>V26</th>\n",
       "      <th>V27</th>\n",
       "      <th>V28</th>\n",
       "      <th>Class</th>\n",
       "      <th>normAmount</th>\n",
       "    </tr>\n",
       "  </thead>\n",
       "  <tbody>\n",
       "    <tr>\n",
       "      <th>0</th>\n",
       "      <td>-1.359807</td>\n",
       "      <td>-0.072781</td>\n",
       "      <td>2.536347</td>\n",
       "      <td>1.378155</td>\n",
       "      <td>-0.338321</td>\n",
       "      <td>0.462388</td>\n",
       "      <td>0.239599</td>\n",
       "      <td>0.098698</td>\n",
       "      <td>0.363787</td>\n",
       "      <td>0.090794</td>\n",
       "      <td>...</td>\n",
       "      <td>-0.018307</td>\n",
       "      <td>0.277838</td>\n",
       "      <td>-0.110474</td>\n",
       "      <td>0.066928</td>\n",
       "      <td>0.128539</td>\n",
       "      <td>-0.189115</td>\n",
       "      <td>0.133558</td>\n",
       "      <td>-0.021053</td>\n",
       "      <td>0</td>\n",
       "      <td>0.244964</td>\n",
       "    </tr>\n",
       "    <tr>\n",
       "      <th>1</th>\n",
       "      <td>1.191857</td>\n",
       "      <td>0.266151</td>\n",
       "      <td>0.166480</td>\n",
       "      <td>0.448154</td>\n",
       "      <td>0.060018</td>\n",
       "      <td>-0.082361</td>\n",
       "      <td>-0.078803</td>\n",
       "      <td>0.085102</td>\n",
       "      <td>-0.255425</td>\n",
       "      <td>-0.166974</td>\n",
       "      <td>...</td>\n",
       "      <td>-0.225775</td>\n",
       "      <td>-0.638672</td>\n",
       "      <td>0.101288</td>\n",
       "      <td>-0.339846</td>\n",
       "      <td>0.167170</td>\n",
       "      <td>0.125895</td>\n",
       "      <td>-0.008983</td>\n",
       "      <td>0.014724</td>\n",
       "      <td>0</td>\n",
       "      <td>-0.342475</td>\n",
       "    </tr>\n",
       "    <tr>\n",
       "      <th>2</th>\n",
       "      <td>-1.358354</td>\n",
       "      <td>-1.340163</td>\n",
       "      <td>1.773209</td>\n",
       "      <td>0.379780</td>\n",
       "      <td>-0.503198</td>\n",
       "      <td>1.800499</td>\n",
       "      <td>0.791461</td>\n",
       "      <td>0.247676</td>\n",
       "      <td>-1.514654</td>\n",
       "      <td>0.207643</td>\n",
       "      <td>...</td>\n",
       "      <td>0.247998</td>\n",
       "      <td>0.771679</td>\n",
       "      <td>0.909412</td>\n",
       "      <td>-0.689281</td>\n",
       "      <td>-0.327642</td>\n",
       "      <td>-0.139097</td>\n",
       "      <td>-0.055353</td>\n",
       "      <td>-0.059752</td>\n",
       "      <td>0</td>\n",
       "      <td>1.160686</td>\n",
       "    </tr>\n",
       "    <tr>\n",
       "      <th>3</th>\n",
       "      <td>-0.966272</td>\n",
       "      <td>-0.185226</td>\n",
       "      <td>1.792993</td>\n",
       "      <td>-0.863291</td>\n",
       "      <td>-0.010309</td>\n",
       "      <td>1.247203</td>\n",
       "      <td>0.237609</td>\n",
       "      <td>0.377436</td>\n",
       "      <td>-1.387024</td>\n",
       "      <td>-0.054952</td>\n",
       "      <td>...</td>\n",
       "      <td>-0.108300</td>\n",
       "      <td>0.005274</td>\n",
       "      <td>-0.190321</td>\n",
       "      <td>-1.175575</td>\n",
       "      <td>0.647376</td>\n",
       "      <td>-0.221929</td>\n",
       "      <td>0.062723</td>\n",
       "      <td>0.061458</td>\n",
       "      <td>0</td>\n",
       "      <td>0.140534</td>\n",
       "    </tr>\n",
       "    <tr>\n",
       "      <th>4</th>\n",
       "      <td>-1.158233</td>\n",
       "      <td>0.877737</td>\n",
       "      <td>1.548718</td>\n",
       "      <td>0.403034</td>\n",
       "      <td>-0.407193</td>\n",
       "      <td>0.095921</td>\n",
       "      <td>0.592941</td>\n",
       "      <td>-0.270533</td>\n",
       "      <td>0.817739</td>\n",
       "      <td>0.753074</td>\n",
       "      <td>...</td>\n",
       "      <td>-0.009431</td>\n",
       "      <td>0.798278</td>\n",
       "      <td>-0.137458</td>\n",
       "      <td>0.141267</td>\n",
       "      <td>-0.206010</td>\n",
       "      <td>0.502292</td>\n",
       "      <td>0.219422</td>\n",
       "      <td>0.215153</td>\n",
       "      <td>0</td>\n",
       "      <td>-0.073403</td>\n",
       "    </tr>\n",
       "  </tbody>\n",
       "</table>\n",
       "<p>5 rows × 30 columns</p>\n",
       "</div>"
      ],
      "text/plain": [
       "         V1        V2        V3        V4        V5        V6        V7  \\\n",
       "0 -1.359807 -0.072781  2.536347  1.378155 -0.338321  0.462388  0.239599   \n",
       "1  1.191857  0.266151  0.166480  0.448154  0.060018 -0.082361 -0.078803   \n",
       "2 -1.358354 -1.340163  1.773209  0.379780 -0.503198  1.800499  0.791461   \n",
       "3 -0.966272 -0.185226  1.792993 -0.863291 -0.010309  1.247203  0.237609   \n",
       "4 -1.158233  0.877737  1.548718  0.403034 -0.407193  0.095921  0.592941   \n",
       "\n",
       "         V8        V9       V10     ...           V21       V22       V23  \\\n",
       "0  0.098698  0.363787  0.090794     ...     -0.018307  0.277838 -0.110474   \n",
       "1  0.085102 -0.255425 -0.166974     ...     -0.225775 -0.638672  0.101288   \n",
       "2  0.247676 -1.514654  0.207643     ...      0.247998  0.771679  0.909412   \n",
       "3  0.377436 -1.387024 -0.054952     ...     -0.108300  0.005274 -0.190321   \n",
       "4 -0.270533  0.817739  0.753074     ...     -0.009431  0.798278 -0.137458   \n",
       "\n",
       "        V24       V25       V26       V27       V28  Class  normAmount  \n",
       "0  0.066928  0.128539 -0.189115  0.133558 -0.021053      0    0.244964  \n",
       "1 -0.339846  0.167170  0.125895 -0.008983  0.014724      0   -0.342475  \n",
       "2 -0.689281 -0.327642 -0.139097 -0.055353 -0.059752      0    1.160686  \n",
       "3 -1.175575  0.647376 -0.221929  0.062723  0.061458      0    0.140534  \n",
       "4  0.141267 -0.206010  0.502292  0.219422  0.215153      0   -0.073403  \n",
       "\n",
       "[5 rows x 30 columns]"
      ]
     },
     "execution_count": 4,
     "metadata": {},
     "output_type": "execute_result"
    }
   ],
   "source": [
    "# 对Amount字段进行标准化\n",
    "from sklearn.preprocessing import StandardScaler\n",
    "\n",
    "data['normAmount'] = StandardScaler().fit_transform(np.array(data['Amount']).reshape(-1,1))# 将Amount字段进行标准化处理\n",
    "data = data.drop(['Time','Amount'],axis=1)# 删除废弃的列\n",
    "data.head()"
   ]
  },
  {
   "cell_type": "markdown",
   "metadata": {},
   "source": [
    "### 使用下采样方式处理数据\n",
    "\n",
    "从分布图中可以看出，两种标签数据分布极不均衡。需要对样本数据进行处理：**过采样**或**下采样**\n",
    "* 过采样：制造数据量少的标签的样本数，使样本数与占比大的样本同样多\n",
    "* 下采样：从样本多的数据中筛选，使得与样本少的数据集同样少"
   ]
  },
  {
   "cell_type": "code",
   "execution_count": 5,
   "metadata": {},
   "outputs": [
    {
     "name": "stdout",
     "output_type": "stream",
     "text": [
      "正样本占比： 0.5\n",
      "负样本占比： 0.5\n",
      "所有样本条数： 984\n"
     ]
    }
   ],
   "source": [
    "# 按列名拿数据，得到x与y\n",
    "X=data.loc[:,data.columns!='Class']\n",
    "y = data.loc[:,data.columns=='Class']\n",
    "\n",
    "# 得到欺诈数据相关内容\n",
    "number_records_fraud = len(data[data['Class']==1]) # 欺诈数据样本个数\n",
    "fraud_indices = np.array(data[data['Class']==1].index) # 得到欺诈数据的index值\n",
    "\n",
    "# 得到正常数据的相关内容\n",
    "normal_indices = data[data['Class']==0].index # 得到正常数据的index值\n",
    "\n",
    "# 从正常样本中进行随机选择。参数含义：从正常的数据的index中进行选择，选择条数为异常数据的条数，并且不替换原始数据\n",
    "random_normal_indices = np.random.choice(normal_indices,number_records_fraud,replace=False) # 得到随机选择后的正常样本数据index\n",
    "random_normal_indices = np.array(random_normal_indices) # 将结果转化为np.array格式\n",
    "\n",
    "# 将随机选择后的正常数据index结果与异常数据index集合进行合并\n",
    "under_sample_indices  = np.concatenate([fraud_indices,random_normal_indices])\n",
    "\n",
    "# 通过index集合得到实际数据集\n",
    "under_sample_data = data.iloc[under_sample_indices,:]\n",
    "\n",
    "X_under_sample_data = under_sample_data.loc[:,under_sample_data.columns!='Class'] # 得到所有特征\n",
    "y_under_sample_data = under_sample_data.loc[:,under_sample_data.columns=='Class'] # 得到所有标签\n",
    "\n",
    "print('正样本占比：',len(under_sample_data[under_sample_data['Class']==0])/len(under_sample_data))\n",
    "print('负样本占比：',len(under_sample_data[under_sample_data['Class']==1])/len(under_sample_data))\n",
    "print('所有样本条数：',len(under_sample_data))"
   ]
  },
  {
   "cell_type": "markdown",
   "metadata": {},
   "source": [
    "### 交叉验证\n",
    "将测试集数据进行平分，平分后的数据分别作为训练集与验证集对模型进行评估，将每次得到的准确率取平均值，则可认为是模型的准确率"
   ]
  },
  {
   "cell_type": "code",
   "execution_count": 6,
   "metadata": {},
   "outputs": [],
   "source": [
    "from sklearn.model_selection import train_test_split"
   ]
  },
  {
   "cell_type": "code",
   "execution_count": 7,
   "metadata": {},
   "outputs": [
    {
     "name": "stdout",
     "output_type": "stream",
     "text": [
      "训练集数量： 199364\n",
      "测试集数量： 85443\n",
      "总数据量： 284807\n",
      "\n",
      "下采样数据训练集数量： 688\n",
      "下采样数据测试集数量： 296\n",
      "下采样总体数据量： 984\n"
     ]
    }
   ],
   "source": [
    "# 对原始数据进行训练集与测试集的切分\n",
    "X_train,x_test,y_train,y_test = train_test_split(X,y,test_size=0.3,random_state=0)\n",
    "\n",
    "print(\"训练集数量：\",len(X_train))\n",
    "print('测试集数量：',len(x_test))\n",
    "print('总数据量：',len(X_train)+len(x_test))\n",
    "\n",
    "# 对下采样数据进行训练集与测试集切分\n",
    "X_train_undersample,x_test_undersample,y_train_undersample,y_test_undersample = train_test_split(X_under_sample_data,y_under_sample_data,test_size=0.3,random_state=0)\n",
    "print(\"\")\n",
    "print(\"下采样数据训练集数量：\",len(X_train_undersample))\n",
    "print(\"下采样数据测试集数量：\",len(x_test_undersample))\n",
    "print(\"下采样总体数据量：\",len(X_train_undersample)+len(x_test_undersample))"
   ]
  },
  {
   "cell_type": "markdown",
   "metadata": {},
   "source": [
    "### 使用逻辑回归建模\n",
    "\n",
    "模型的评估标准：单纯的看模型准确度可能会有问题。模型的准确率=预测正确的人数/总人数。\n",
    "举例：当有1000个病人，其中990个不患癌症，10个患癌症。我们的模型预期是想要得到患有癌症的人。如果10个患癌中指检测到了8个人，说明模型准确率为80%。但从另一个角度讲，模型检测结果为所有人都不患癌症，则检测正确的概率为990/1000=99%，反而比上一个要高，但其实后者的模型没有任何意义。\n",
    "\n",
    "召回率含义：模型的目的为找到信用卡欺诈的数据。对于信用卡欺诈的数据，**召回率=信用卡欺诈预测正确的个数/信用卡欺诈的真实个数**"
   ]
  },
  {
   "cell_type": "code",
   "execution_count": 8,
   "metadata": {},
   "outputs": [
    {
     "name": "stderr",
     "output_type": "stream",
     "text": [
      "/Users/zhangdi/anaconda3/lib/python3.6/site-packages/sklearn/cross_validation.py:41: DeprecationWarning: This module was deprecated in version 0.18 in favor of the model_selection module into which all the refactored classes and functions are moved. Also note that the interface of the new CV iterators are different from that of this module. This module will be removed in 0.20.\n",
      "  \"This module will be removed in 0.20.\", DeprecationWarning)\n"
     ]
    }
   ],
   "source": [
    "from sklearn.linear_model import LogisticRegression # 线性回归模块\n",
    "from sklearn.cross_validation import KFold,cross_val_score\n",
    "from sklearn.metrics import confusion_matrix,recall_score,classification_report"
   ]
  },
  {
   "cell_type": "code",
   "execution_count": 9,
   "metadata": {},
   "outputs": [],
   "source": [
    "def printing_Kfold_scores(x_train_data,y_train_data):\n",
    "    fold = KFold(len(y_train_data),5,shuffle=False) # 交叉验证，将数据集切分成5部分\n",
    "    \n",
    "    # 设置惩罚项力度\n",
    "    c_param_range = [0.01,0.1,1,10,100]\n",
    "    \n",
    "    results_table = pd.DataFrame(index=range(len(c_param_range),2),columns=['C_parameter','Mean recall score'])# 创建返回结果集\n",
    "    results_table['C_parameter'] = c_param_range \n",
    "\n",
    "    j=0\n",
    "    for c_param in c_param_range: # 循环正则化惩罚项力度\n",
    "        print('-------------------')\n",
    "        print('交叉验证力度：',c_param)\n",
    "        print('-------------------')\n",
    "        print('')\n",
    "        \n",
    "        recall_accs = []\n",
    "        for iteration,indices in enumerate(fold,start=1): # 此处iteration为次数，indices结构为(array([1, 2, 3, 4]), array([0]))，前半部分表示训练集index，后半部分表示测试集index\n",
    "            lr = LogisticRegression(C = c_param,penalty='l1') # 创建逻辑回归模型。使用l1正则化\n",
    "            \n",
    "            # x_train_data.iloc[indices[0],:] 得到第一列的所有元素，\n",
    "            lr.fit(x_train_data.iloc[indices[0],:],y_train_data.iloc[indices[0],:].values.ravel()) # 使用交叉验证数据训练模型\n",
    "            \n",
    "            # x_train_data.iloc[indices[1],:]得到第二列的所有元素\n",
    "            y_pred_undersample = lr.predict(x_train_data.iloc[indices[1],:].values) # 对每一个模型进行预测准确度验证\n",
    "            \n",
    "            # 计算召回率。\n",
    "            # 召回率=提取出的正确信息条数 /样本中的信息条数。通俗地说，就是所有准确的条目有多少被检索出来了\n",
    "            recall_acc = recall_score(y_train_data.iloc[indices[1],:].values,y_pred_undersample) # 计算每一次的召回率\n",
    "            recall_accs.append(recall_acc) # 将召回率添加到列表中\n",
    "            print(\"交叉验证次数： \", iteration,\" : 召回率 = \", recall_acc)\n",
    "        \n",
    "        # 打印内容\n",
    "        results_table.loc[j,\"Mean recall score\"] = np.mean(recall_accs) # 将平均匹配率\n",
    "        j+=1\n",
    "        print('')\n",
    "        print(\"平均匹配率：\", np.mean(recall_accs))\n",
    "        print('')\n",
    "    \n",
    "    results_table['Mean recall score']=results_table['Mean recall score'].astype('float64')\n",
    "    best_c = results_table.loc[results_table['Mean recall score'].idxmax()]['C_parameter'] #得到Mean recall score最大值时的C_parameter值]\n",
    "    \n",
    "    print('**********************************************************************')\n",
    "    print(\"最优的正则化惩罚项力度C parameter = \",best_c)\n",
    "    print('**********************************************************************')\n",
    "    \n",
    "    return best_c"
   ]
  },
  {
   "cell_type": "code",
   "execution_count": 10,
   "metadata": {},
   "outputs": [
    {
     "name": "stdout",
     "output_type": "stream",
     "text": [
      "-------------------\n",
      "交叉验证力度： 0.01\n",
      "-------------------\n",
      "\n",
      "交叉验证次数：  1  : 召回率 =  0.9452054794520548\n",
      "交叉验证次数：  2  : 召回率 =  0.9178082191780822\n",
      "交叉验证次数：  3  : 召回率 =  1.0\n",
      "交叉验证次数：  4  : 召回率 =  0.9594594594594594\n",
      "交叉验证次数：  5  : 召回率 =  0.9696969696969697\n",
      "\n",
      "平均匹配率： 0.9584340255573132\n",
      "\n",
      "-------------------\n",
      "交叉验证力度： 0.1\n",
      "-------------------\n",
      "\n",
      "交叉验证次数：  1  : 召回率 =  0.8493150684931506\n",
      "交叉验证次数：  2  : 召回率 =  0.863013698630137\n",
      "交叉验证次数：  3  : 召回率 =  0.9322033898305084\n",
      "交叉验证次数：  4  : 召回率 =  0.9459459459459459\n",
      "交叉验证次数：  5  : 召回率 =  0.9090909090909091\n",
      "\n",
      "平均匹配率： 0.8999138023981302\n",
      "\n",
      "-------------------\n",
      "交叉验证力度： 1\n",
      "-------------------\n",
      "\n",
      "交叉验证次数：  1  : 召回率 =  0.863013698630137\n",
      "交叉验证次数：  2  : 召回率 =  0.8904109589041096\n",
      "交叉验证次数：  3  : 召回率 =  0.9830508474576272\n",
      "交叉验证次数：  4  : 召回率 =  0.9459459459459459\n",
      "交叉验证次数：  5  : 召回率 =  0.9242424242424242\n",
      "\n",
      "平均匹配率： 0.9213327750360488\n",
      "\n",
      "-------------------\n",
      "交叉验证力度： 10\n",
      "-------------------\n",
      "\n",
      "交叉验证次数：  1  : 召回率 =  0.863013698630137\n",
      "交叉验证次数：  2  : 召回率 =  0.8904109589041096\n",
      "交叉验证次数：  3  : 召回率 =  0.9830508474576272\n",
      "交叉验证次数：  4  : 召回率 =  0.9324324324324325\n",
      "交叉验证次数：  5  : 召回率 =  0.9242424242424242\n",
      "\n",
      "平均匹配率： 0.918630072333346\n",
      "\n",
      "-------------------\n",
      "交叉验证力度： 100\n",
      "-------------------\n",
      "\n",
      "交叉验证次数：  1  : 召回率 =  0.863013698630137\n",
      "交叉验证次数：  2  : 召回率 =  0.9041095890410958\n",
      "交叉验证次数：  3  : 召回率 =  0.9830508474576272\n",
      "交叉验证次数：  4  : 召回率 =  0.9459459459459459\n",
      "交叉验证次数：  5  : 召回率 =  0.9242424242424242\n",
      "\n",
      "平均匹配率： 0.924072501063446\n",
      "\n",
      "**********************************************************************\n",
      "最优的正则化惩罚项力度C parameter =  0.01\n",
      "**********************************************************************\n"
     ]
    }
   ],
   "source": [
    "best_c = printing_Kfold_scores(X_train_undersample,y_train_undersample)"
   ]
  },
  {
   "cell_type": "markdown",
   "metadata": {},
   "source": [
    "### 混淆矩阵。用于观察预测的正确率"
   ]
  },
  {
   "cell_type": "code",
   "execution_count": 11,
   "metadata": {},
   "outputs": [],
   "source": [
    "# 画混淆矩阵。用于查看最终匹配成功与失败的个数\n",
    "def plot_confusion_matrix(cm,classes,title='Confusion matrix',cmap=plt.cm.Blues):\n",
    "    plt.imshow(cm,interpolation='nearest',cmap=cmap)\n",
    "    plt.title(title)\n",
    "    plt.colorbar()\n",
    "    tick_marks = np.arange(len(classes))\n",
    "    plt.xticks(tick_marks,classes,rotation=0)\n",
    "    plt.yticks(tick_marks,classes)\n",
    "    \n",
    "    thresh = cm.max()/2.\n",
    "    for i,j in itertools.product(range(cm.shape[0]),range(cm.shape[1])):\n",
    "        plt.text(j,i,cm[i,j],horizontalalignment = 'center',color='white' if cm[i,j]>thresh else 'black')\n",
    "\n",
    "    plt.tight_layout()\n",
    "    plt.ylabel(\"True label\")\n",
    "    plt.xlabel('Predicted label')"
   ]
  },
  {
   "cell_type": "code",
   "execution_count": 12,
   "metadata": {},
   "outputs": [
    {
     "name": "stdout",
     "output_type": "stream",
     "text": [
      "采用下采样数据集的召回率结果为： 0.9319727891156463\n"
     ]
    },
    {
     "data": {
      "image/png": "[encoded data removed]",
      "text/plain": [
       "<Figure size 432x288 with 2 Axes>"
      ]
     },
     "metadata": {},
     "output_type": "display_data"
    }
   ],
   "source": [
    "import itertools\n",
    "lr = LogisticRegression(C=best_c,penalty='l1')\n",
    "lr.fit(X_train_undersample,y_train_undersample.values.ravel())\n",
    "y_pred_undersample = lr.predict(x_test_undersample.values)\n",
    "\n",
    "cnf_matrix = confusion_matrix(y_test_undersample,y_pred_undersample)\n",
    "np.set_printoptions(precision=2)\n",
    "\n",
    "print('采用下采样数据集的召回率结果为：',cnf_matrix[1,1]/(cnf_matrix[1,0]+cnf_matrix[1,1]))\n",
    "\n",
    "class_name=[0,1]\n",
    "plt.figure()\n",
    "plot_confusion_matrix(cnf_matrix,classes=class_name,title='Confusion matrix')\n",
    "plt.show()"
   ]
  },
  {
   "cell_type": "code",
   "execution_count": 13,
   "metadata": {},
   "outputs": [
    {
     "name": "stdout",
     "output_type": "stream",
     "text": [
      "全集数据的召回率结果为： 0.9183673469387755\n"
     ]
    },
    {
     "data": {
      "image/png": "[encoded data removed]",
      "text/plain": [
       "<Figure size 432x288 with 2 Axes>"
      ]
     },
     "metadata": {},
     "output_type": "display_data"
    }
   ],
   "source": [
    "lr = LogisticRegression(C=best_c,penalty='l1')\n",
    "lr.fit(X_train_undersample,y_train_undersample.values.ravel())\n",
    "y_pred = lr.predict(x_test.values)\n",
    "\n",
    "cnf_matrix = confusion_matrix(y_test,y_pred)\n",
    "np.set_printoptions(precision=2)\n",
    "\n",
    "print('全集数据的召回率结果为：',cnf_matrix[1,1]/(cnf_matrix[1,0]+cnf_matrix[1,1]))\n",
    "\n",
    "class_name=[0,1]\n",
    "plt.figure()\n",
    "plot_confusion_matrix(cnf_matrix,classes=class_name,title='Confusion matrix')"
   ]
  },
  {
   "cell_type": "code",
   "execution_count": 23,
   "metadata": {},
   "outputs": [
    {
     "name": "stdout",
     "output_type": "stream",
     "text": [
      "-------------------\n",
      "交叉验证力度： 0.01\n",
      "-------------------\n",
      "\n",
      "交叉验证次数：  1  : 召回率 =  0.4925373134328358\n",
      "交叉验证次数：  2  : 召回率 =  0.6027397260273972\n",
      "交叉验证次数：  3  : 召回率 =  0.6833333333333333\n",
      "交叉验证次数：  4  : 召回率 =  0.5692307692307692\n",
      "交叉验证次数：  5  : 召回率 =  0.45\n",
      "\n",
      "平均匹配率： 0.5595682284048672\n",
      "\n",
      "-------------------\n",
      "交叉验证力度： 0.1\n",
      "-------------------\n",
      "\n",
      "交叉验证次数：  1  : 召回率 =  0.5671641791044776\n",
      "交叉验证次数：  2  : 召回率 =  0.6164383561643836\n",
      "交叉验证次数：  3  : 召回率 =  0.6833333333333333\n",
      "交叉验证次数：  4  : 召回率 =  0.5846153846153846\n",
      "交叉验证次数：  5  : 召回率 =  0.525\n",
      "\n",
      "平均匹配率： 0.5953102506435158\n",
      "\n",
      "-------------------\n",
      "交叉验证力度： 1\n",
      "-------------------\n",
      "\n",
      "交叉验证次数：  1  : 召回率 =  0.5522388059701493\n",
      "交叉验证次数：  2  : 召回率 =  0.6164383561643836\n",
      "交叉验证次数：  3  : 召回率 =  0.7166666666666667\n",
      "交叉验证次数：  4  : 召回率 =  0.6153846153846154\n",
      "交叉验证次数：  5  : 召回率 =  0.5625\n",
      "\n",
      "平均匹配率： 0.612645688837163\n",
      "\n",
      "-------------------\n",
      "交叉验证力度： 10\n",
      "-------------------\n",
      "\n",
      "交叉验证次数：  1  : 召回率 =  0.5522388059701493\n",
      "交叉验证次数：  2  : 召回率 =  0.6164383561643836\n",
      "交叉验证次数：  3  : 召回率 =  0.7333333333333333\n",
      "交叉验证次数：  4  : 召回率 =  0.6153846153846154\n",
      "交叉验证次数：  5  : 召回率 =  0.575\n",
      "\n",
      "平均匹配率： 0.6184790221704963\n",
      "\n",
      "-------------------\n",
      "交叉验证力度： 100\n",
      "-------------------\n",
      "\n",
      "交叉验证次数：  1  : 召回率 =  0.5522388059701493\n",
      "交叉验证次数：  2  : 召回率 =  0.6164383561643836\n",
      "交叉验证次数：  3  : 召回率 =  0.7333333333333333\n",
      "交叉验证次数：  4  : 召回率 =  0.6153846153846154\n",
      "交叉验证次数：  5  : 召回率 =  0.575\n",
      "\n",
      "平均匹配率： 0.6184790221704963\n",
      "\n",
      "**********************************************************************\n",
      "最优的正则化惩罚项力度C parameter =  10.0\n",
      "**********************************************************************\n"
     ]
    }
   ],
   "source": [
    "best_c = printing_Kfold_scores(X_train,y_train)"
   ]
  },
  {
   "cell_type": "markdown",
   "metadata": {},
   "source": [
    "### 根据混淆矩阵来观察最合适的预设值。\n",
    "系统默认预设值为0.5，我们可以修改此预测值的阀值来达到更好的预测目的"
   ]
  },
  {
   "cell_type": "code",
   "execution_count": 15,
   "metadata": {},
   "outputs": [
    {
     "name": "stdout",
     "output_type": "stream",
     "text": [
      "Recall metric in the testing dataset： 1.0\n",
      "Recall metric in the testing dataset： 1.0\n",
      "Recall metric in the testing dataset： 1.0\n",
      "Recall metric in the testing dataset： 0.9863945578231292\n",
      "Recall metric in the testing dataset： 0.9319727891156463\n",
      "Recall metric in the testing dataset： 0.8775510204081632\n",
      "Recall metric in the testing dataset： 0.8367346938775511\n",
      "Recall metric in the testing dataset： 0.7619047619047619\n",
      "Recall metric in the testing dataset： 0.5850340136054422\n"
     ]
    },
    {
     "data": {
      "image/png": "[encoded data removed]",
      "text/plain": [
       "<Figure size 720x720 with 18 Axes>"
      ]
     },
     "metadata": {},
     "output_type": "display_data"
    }
   ],
   "source": [
    "lr = LogisticRegression(C=0.01,penalty='l1')\n",
    "lr.fit(X_train_undersample,y_train_undersample.values.ravel())\n",
    "y_pred_undersample_proba = lr.predict_proba(x_test_undersample.values) #predict_proba 直接预测出概率值\n",
    "\n",
    "thresholds = [0.1,0.2,0.3,0.4,0.5,0.6,0.7,0.8,0.9] # 将预置设置为0.1-0.9，观察每一种预置的结果\n",
    "plt.figure(figsize=(10,10))\n",
    "j=1\n",
    "for i in thresholds:\n",
    "    y_test_predictions_high_recall = y_pred_undersample_proba[:,1]>i\n",
    "    \n",
    "    plt.subplot(3,3,j)\n",
    "    j+=1\n",
    "    \n",
    "    cnf_matrix = confusion_matrix(y_test_undersample,y_test_predictions_high_recall)\n",
    "    np.set_printoptions(precision=2)\n",
    "    \n",
    "    print('Recall metric in the testing dataset：',cnf_matrix[1,1]/(cnf_matrix[1,0]+cnf_matrix[1,1]))\n",
    "    \n",
    "    class_names = [0,1]\n",
    "    plot_confusion_matrix(cnf_matrix,classes=class_name,title='Threshold>=%s'%i)\n",
    "    "
   ]
  },
  {
   "cell_type": "markdown",
   "metadata": {},
   "source": [
    "### 过采样\n",
    "SMOTE算法：\n",
    "1. 对于少数类中每一个样本x，以欧式距离为标准计算它到少数类样本集中所有样本的距离，得到其k近邻\n",
    "2. 根据样本不平衡比例设置一个采样比例以确定采样倍率N，对每一个少数类样本x，从其k近邻中随机选择若干个样本，假设选择的近邻为xn。\n",
    "3. 对于每一个随机选出的近邻xn，分别与原样本按照如下的公式构建新的样本\n",
    "$$x_{new}=x+rand(0,1)\\times(\\tilde{x}-x) $$"
   ]
  },
  {
   "cell_type": "code",
   "execution_count": 16,
   "metadata": {},
   "outputs": [],
   "source": [
    "from imblearn.over_sampling import SMOTE # 此库在anaconda中需要安装。anaconda包库中不包含此内容，需要手动在anaconda命令行中进行安装\n",
    "from sklearn.ensemble import RandomForestClassifier\n",
    "from sklearn.metrics import confusion_matrix"
   ]
  },
  {
   "cell_type": "code",
   "execution_count": 17,
   "metadata": {},
   "outputs": [],
   "source": [
    "credit_cards = pd.read_csv('../../dataSet/creditcard.csv')\n",
    "\n",
    "columns = credit_cards.columns\n",
    "\n",
    "features_columns = columns.delete(len(columns)-1)\n",
    "\n",
    "features = credit_cards[features_columns]\n",
    "labels = credit_cards['Class']"
   ]
  },
  {
   "cell_type": "code",
   "execution_count": 18,
   "metadata": {},
   "outputs": [],
   "source": [
    "features_train,features_test,labels_train,labels_test = train_test_split(features,labels,test_size=0.2,random_state=0)"
   ]
  },
  {
   "cell_type": "code",
   "execution_count": 19,
   "metadata": {},
   "outputs": [],
   "source": [
    "oversampler = SMOTE(random_state=0)\n",
    "os_features,os_labels = oversampler.fit_sample(features_train,labels_train) #对训练集进行学习。会自动将标签是0与1的个数进行平衡。"
   ]
  },
  {
   "cell_type": "code",
   "execution_count": 20,
   "metadata": {},
   "outputs": [
    {
     "name": "stdout",
     "output_type": "stream",
     "text": [
      "227454\n",
      "227454\n"
     ]
    }
   ],
   "source": [
    "print(len(os_labels[os_labels==1]))# 得到新的标签为1的数据集\n",
    "print(len(os_labels[os_labels==0]))"
   ]
  },
  {
   "cell_type": "code",
   "execution_count": 21,
   "metadata": {},
   "outputs": [
    {
     "name": "stdout",
     "output_type": "stream",
     "text": [
      "-------------------\n",
      "交叉验证力度： 0.01\n",
      "-------------------\n",
      "\n",
      "交叉验证次数：  1  : 召回率 =  0.8903225806451613\n",
      "交叉验证次数：  2  : 召回率 =  0.8947368421052632\n",
      "交叉验证次数：  3  : 召回率 =  0.9682859355980967\n",
      "交叉验证次数：  4  : 召回率 =  0.9578373506556314\n",
      "交叉验证次数：  5  : 召回率 =  0.9584198898671151\n",
      "\n",
      "平均匹配率： 0.9339205197742535\n",
      "\n",
      "-------------------\n",
      "交叉验证力度： 0.1\n",
      "-------------------\n",
      "\n",
      "交叉验证次数：  1  : 召回率 =  0.8903225806451613\n",
      "交叉验证次数：  2  : 召回率 =  0.8947368421052632\n",
      "交叉验证次数：  3  : 召回率 =  0.9702777470399468\n",
      "交叉验证次数：  4  : 召回率 =  0.9594530726195579\n",
      "交叉验证次数：  5  : 召回率 =  0.9603653510073532\n",
      "\n",
      "平均匹配率： 0.9350311186834563\n",
      "\n",
      "-------------------\n",
      "交叉验证力度： 1\n",
      "-------------------\n",
      "\n",
      "交叉验证次数：  1  : 召回率 =  0.8903225806451613\n",
      "交叉验证次数：  2  : 召回率 =  0.8947368421052632\n",
      "交叉验证次数：  3  : 召回率 =  0.9705433218988603\n",
      "交叉验证次数：  4  : 召回率 =  0.9587606203493036\n",
      "交叉验证次数：  5  : 召回率 =  0.9604752640661237\n",
      "\n",
      "平均匹配率： 0.9349677258129423\n",
      "\n",
      "-------------------\n",
      "交叉验证力度： 10\n",
      "-------------------\n",
      "\n",
      "交叉验证次数：  1  : 召回率 =  0.8903225806451613\n",
      "交叉验证次数：  2  : 召回率 =  0.8947368421052632\n",
      "交叉验证次数：  3  : 召回率 =  0.970167090848733\n",
      "交叉验证次数：  4  : 召回率 =  0.960112550972181\n",
      "交叉验证次数：  5  : 召回率 =  0.9606401336542795\n",
      "\n",
      "平均匹配率： 0.9351958396451236\n",
      "\n",
      "-------------------\n",
      "交叉验证力度： 100\n",
      "-------------------\n",
      "\n",
      "交叉验证次数：  1  : 召回率 =  0.8903225806451613\n",
      "交叉验证次数：  2  : 召回率 =  0.8947368421052632\n",
      "交叉验证次数：  3  : 召回率 =  0.9704547969458891\n",
      "交叉验证次数：  4  : 召回率 =  0.9604972466778778\n",
      "交叉验证次数：  5  : 召回率 =  0.9593761334784185\n",
      "\n",
      "平均匹配率： 0.935077519970522\n",
      "\n",
      "**********************************************************************\n",
      "最优的正则化惩罚项力度C parameter =  10.0\n",
      "**********************************************************************\n"
     ]
    }
   ],
   "source": [
    "os_features = pd.DataFrame(os_features)\n",
    "os_labels = pd.DataFrame(os_labels)\n",
    "best_c = printing_Kfold_scores(os_features,os_labels)"
   ]
  },
  {
   "cell_type": "code",
   "execution_count": 22,
   "metadata": {},
   "outputs": [
    {
     "name": "stdout",
     "output_type": "stream",
     "text": [
      "Recall metric in the testing dataset ： 0.900990099009901\n"
     ]
    },
    {
     "data": {
      "image/png": "[encoded data removed]",
      "text/plain": [
       "<Figure size 432x288 with 2 Axes>"
      ]
     },
     "metadata": {},
     "output_type": "display_data"
    }
   ],
   "source": [
    "lr = LogisticRegression(C=best_c,penalty='l1')\n",
    "lr.fit(os_features,os_labels.values.ravel())\n",
    "y_pred = lr.predict(features_test.values)\n",
    "\n",
    "cnf_matrix = confusion_matrix(labels_test,y_pred)\n",
    "np.set_printoptions(precision=2)\n",
    "\n",
    "print('Recall metric in the testing dataset ：',cnf_matrix[1,1]/(cnf_matrix[1,0]+cnf_matrix[1,1]))\n",
    "\n",
    "class_name=[0,1]\n",
    "plt.figure()\n",
    "plot_confusion_matrix(cnf_matrix,classes=class_names,title='Confusion matrix')\n",
    "plt.show()"
   ]
  },
  {
   "cell_type": "code",
   "execution_count": null,
   "metadata": {},
   "outputs": [],
   "source": []
  }
 ],
 "metadata": {
  "kernelspec": {
   "display_name": "Python 3",
   "language": "python",
   "name": "python3"
  },
  "language_info": {
   "codemirror_mode": {
    "name": "ipython",
    "version": 3
   },
   "file_extension": ".py",
   "mimetype": "text/x-python",
   "name": "python",
   "nbconvert_exporter": "python",
   "pygments_lexer": "ipython3",
   "version": "3.6.5"
  }
 },
 "nbformat": 4,
 "nbformat_minor": 2
}
