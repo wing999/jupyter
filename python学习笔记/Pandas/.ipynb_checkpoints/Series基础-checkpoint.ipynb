{
 "cells": [
  {
   "cell_type": "markdown",
   "metadata": {},
   "source": [
    "# Series基础"
   ]
  },
  {
   "cell_type": "code",
   "execution_count": 1,
   "metadata": {},
   "outputs": [],
   "source": [
    "import numpy as np\n",
    "import pandas as pd"
   ]
  },
  {
   "cell_type": "markdown",
   "metadata": {},
   "source": [
    "## Series的创建"
   ]
  },
  {
   "cell_type": "code",
   "execution_count": 2,
   "metadata": {},
   "outputs": [],
   "source": [
    "marks_np = np.array([90,85,72]) # Numpy 数组\n",
    "subject_np = np.array(['小明','小红','小刚']) \n",
    "\n",
    "marks_list = [90,85,72] # python 列表\n",
    "subjects_list=['小明','小红','小刚']\n",
    "\n",
    "marks_dict = {'Tom':90,\"David\":85,\"Selina\":72} # python 字典"
   ]
  },
  {
   "cell_type": "code",
   "execution_count": 3,
   "metadata": {},
   "outputs": [
    {
     "name": "stdout",
     "output_type": "stream",
     "text": [
      "小明    90\n",
      "小红    85\n",
      "小刚    72\n",
      "dtype: int64\n",
      "==============================\n",
      "小明    90\n",
      "小红    85\n",
      "小刚    72\n",
      "dtype: int64\n",
      "==============================\n",
      "Tom       90\n",
      "David     85\n",
      "Selina    72\n",
      "dtype: int64\n"
     ]
    }
   ],
   "source": [
    "serise_from_np = pd.Series(marks_np,subject_np) # (data[数据，类型不限]，index[索引])\n",
    "serise_from_list = pd.Series(marks_list,subjects_list) # 转列表为Series\n",
    "series_from_dict= pd.Series(marks_dict) # 转字典为Series\n",
    "\n",
    "print(serise_from_np) # int32 不会排序\n",
    "print(\"=\"*30)\n",
    "print(serise_from_list) # int64 不会排序\n",
    "print(\"=\"*30)\n",
    "print(series_from_dict) # int64 不会排序\n"
   ]
  },
  {
   "cell_type": "code",
   "execution_count": 4,
   "metadata": {},
   "outputs": [
    {
     "name": "stdout",
     "output_type": "stream",
     "text": [
      "0    90\n",
      "1    85\n",
      "2    72\n",
      "dtype: int64\n"
     ]
    }
   ],
   "source": [
    "series_no_index=pd.Series(marks_np) # 可以不指定index\n",
    "print(series_no_index) # index默认0,1,2"
   ]
  },
  {
   "cell_type": "markdown",
   "metadata": {},
   "source": [
    "## Series 的索引"
   ]
  },
  {
   "cell_type": "code",
   "execution_count": 5,
   "metadata": {},
   "outputs": [
    {
     "name": "stdout",
     "output_type": "stream",
     "text": [
      "90\n",
      "85\n",
      "72\n"
     ]
    }
   ],
   "source": [
    "print(serise_from_np[0]) # 即便index是字符串，也可以用数字\n",
    "print(serise_from_np['小红']) # 使用index\n",
    "print(series_no_index[2]) # 数字"
   ]
  },
  {
   "cell_type": "markdown",
   "metadata": {},
   "source": [
    "## Series的运算"
   ]
  },
  {
   "cell_type": "code",
   "execution_count": 6,
   "metadata": {},
   "outputs": [
    {
     "name": "stdout",
     "output_type": "stream",
     "text": [
      "小明    180\n",
      "小红    170\n",
      "小刚    144\n",
      "dtype: int64\n",
      "==============================\n",
      "小明    45.0\n",
      "小红    42.5\n",
      "小刚    36.0\n",
      "dtype: float64\n",
      "==============================\n",
      "小明   NaN\n",
      "小红   NaN\n",
      "小刚   NaN\n",
      "0    NaN\n",
      "1    NaN\n",
      "2    NaN\n",
      "dtype: float64\n"
     ]
    },
    {
     "name": "stderr",
     "output_type": "stream",
     "text": [
      "/Users/zhangdi/anaconda3/lib/python3.6/site-packages/pandas/core/indexes/base.py:3755: RuntimeWarning: '<' not supported between instances of 'str' and 'int', sort order is undefined for incomparable objects\n",
      "  return this.join(other, how=how, return_indexers=return_indexers)\n"
     ]
    }
   ],
   "source": [
    "print(serise_from_np+serise_from_list)\n",
    "print(\"=\"*30)\n",
    "print(serise_from_np/2) # float64\n",
    "print(\"=\"*30)\n",
    "print(serise_from_np+series_no_index) # index不匹配的 加起来为NaN"
   ]
  },
  {
   "cell_type": "code",
   "execution_count": null,
   "metadata": {},
   "outputs": [],
   "source": []
  }
 ],
 "metadata": {
  "kernelspec": {
   "display_name": "Python 3",
   "language": "python",
   "name": "python3"
  },
  "language_info": {
   "codemirror_mode": {
    "name": "ipython",
    "version": 3
   },
   "file_extension": ".py",
   "mimetype": "text/x-python",
   "name": "python",
   "nbconvert_exporter": "python",
   "pygments_lexer": "ipython3",
   "version": "3.6.5"
  }
 },
 "nbformat": 4,
 "nbformat_minor": 2
}
